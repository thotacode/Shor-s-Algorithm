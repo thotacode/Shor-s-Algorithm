{
 "cells": [
  {
   "cell_type": "code",
   "execution_count": 3,
   "metadata": {},
   "outputs": [],
   "source": [
    "# Shor's algorithm\n",
    "# This is an algorithm created by Peter Shor, to use quantum computing to rapidly factorize large numbers.\n",
    "# The below code demonstrates the underlying principles of Shor's algorithm, to the best ability of classic Python.\n"
   ]
  },
  {
   "cell_type": "code",
   "execution_count": 12,
   "metadata": {},
   "outputs": [],
   "source": [
    "# We import numpy for math, random, and matplotlib for drawing our quantum circuit.\n",
    "import numpy as np\n",
    "import random\n",
    "import matplotlib.pyplot as plt\n",
    "import matplotlib.patches as patches\n",
    "from matplotlib.colors import LinearSegmentedColormap"
   ]
  },
  {
   "cell_type": "code",
   "execution_count": 5,
   "metadata": {},
   "outputs": [],
   "source": [
    "# We find the greatest common divisor using the Euclidean algorithm\n",
    "def gcd(a, b):\n",
    "    while b:\n",
    "        a, b = b, a % b\n",
    "    return a\n",
    "\n",
    "# We now check if the number is prime.\n",
    "def is_prime(n):\n",
    "    if n <= 1:\n",
    "        return False\n",
    "    if n <= 3:\n",
    "        return True\n",
    "    if n % 2 == 0 or n % 3 == 0:\n",
    "        return False\n",
    "    i = 5\n",
    "    while i * i <= n:\n",
    "        if n % i == 0 or n % (i + 2) == 0:\n",
    "            return False\n",
    "        i += 6\n",
    "    return True"
   ]
  },
  {
   "cell_type": "code",
   "execution_count": 6,
   "metadata": {},
   "outputs": [],
   "source": [
    "# Trial division for finding factors of the number\n",
    "def trial_division(n):\n",
    "    factors = []\n",
    "    while n % 2 == 0:\n",
    "        factors.append(2)\n",
    "        n //= 2\n",
    "    while n % 3 == 0:\n",
    "        factors.append(3)\n",
    "        n //= 3\n",
    "    i = 5\n",
    "    while i * i <= n:\n",
    "        while n % i == 0:\n",
    "            factors.append(i)\n",
    "            n //= i\n",
    "        while n % (i + 2) == 0:\n",
    "            factors.append(i + 2)\n",
    "            n //= i + 2\n",
    "        i += 6\n",
    "    if n > 1:\n",
    "        factors.append(n)\n",
    "    return factors"
   ]
  },
  {
   "cell_type": "code",
   "execution_count": 7,
   "metadata": {},
   "outputs": [],
   "source": [
    "# Quantum Fourier Transform matrix. This matrix is the most important part of the algorithm and utilises complex math.\n",
    "def qft_matrix(n):\n",
    "    size = 2 ** n\n",
    "    qft = np.zeros((size, size), dtype=complex)\n",
    "    for j in range(size):\n",
    "        for k in range(size):\n",
    "            qft[j, k] = np.exp(2j * np.pi * j * k / size) / np.sqrt(size)\n",
    "    return qft\n",
    "\n",
    "\n",
    "# Modular exponentiation matrix - a way in which any number can be expressed in a range of its period of modular exponents.\n",
    "def mod_exp_matrix(a, N, n):\n",
    "    size = 2 ** n\n",
    "    mod_exp = np.zeros((size, size), dtype=complex)\n",
    "    for x in range(size):\n",
    "        y = pow(a, x, N)\n",
    "        mod_exp[x, y] = 1\n",
    "    return mod_exp"
   ]
  },
  {
   "cell_type": "code",
   "execution_count": 8,
   "metadata": {},
   "outputs": [],
   "source": [
    "# Shor's algorithm implementation\n",
    "# Note this algorithm is not designed to be on classical hardware.\n",
    "def shors_algorithm(a, N):\n",
    "    n = int(np.ceil(np.log2(N)))\n",
    "    qft = qft_matrix(n)\n",
    "    mod_exp = mod_exp_matrix(a, N, n)\n",
    "\n",
    "    state = np.zeros((2 ** n, 1), dtype=complex)\n",
    "    state[0] = 1\n",
    "\n",
    "    H = np.array([[1, 1], [1, -1]]) / np.sqrt(2)\n",
    "    Hn = H\n",
    "    for _ in range(n - 1):\n",
    "        Hn = np.kron(Hn, H)\n",
    "    state = Hn @ state\n",
    "\n",
    "    state = mod_exp @ state\n",
    "\n",
    "    state = qft @ state\n",
    "\n",
    "    probabilities = np.abs(state) ** 2\n",
    "    result = np.argmax(probabilities)\n",
    "\n",
    "    return result\n",
    "\n"
   ]
  },
  {
   "cell_type": "code",
   "execution_count": 9,
   "metadata": {},
   "outputs": [],
   "source": [
    "# Finding a factor of N using Shor's algorithm - albeit this is not a qubit-system, we aim to represent the benefit\n",
    "# of quantum hardware classically\n",
    "def quantum_factor(N):\n",
    "    a = random.randint(2, N - 1)\n",
    "    while gcd(a, N) != 1:\n",
    "        a = random.randint(2, N - 1)\n",
    "    result = shors_algorithm(a, N)\n",
    "    factor = gcd(result, N)\n",
    "    if factor == 1 or factor == N:\n",
    "        return quantum_factor(N)\n",
    "    return factor\n",
    "\n",
    "\n",
    "# N into its prime factors\n",
    "def prime_factors(N):\n",
    "    factors = trial_division(N)\n",
    "    prime_factors_list = []\n",
    "    for factor in factors:\n",
    "        while not is_prime(factor):\n",
    "            smaller_factor = quantum_factor(factor)\n",
    "            prime_factors_list.append(smaller_factor)\n",
    "            factor //= smaller_factor\n",
    "        prime_factors_list.append(factor)\n",
    "    return prime_factors_list"
   ]
  },
  {
   "cell_type": "code",
   "execution_count": 10,
   "metadata": {},
   "outputs": [],
   "source": [
    "def plot_quantum_circuit(n):\n",
    "    fig, ax = plt.subplots(figsize=(12, 6))\n",
    "    ax.set_xlim(0, n * 4 + 4)  # Increase x-axis limit to provide more space\n",
    "    ax.set_ylim(0, 1.4)\n",
    "\n",
    "    # Create a custom colormap for the gradient background\n",
    "    cmap = LinearSegmentedColormap.from_list(\"custom_cmap\", ['#0f2027', '#203a43', '#2c5364'])\n",
    "\n",
    "    # Plot the background gradient\n",
    "    ax.imshow(np.linspace(0, 1, 256).reshape(1, -1), aspect='auto', cmap=cmap, extent=[0, n * 4 + 4, 0, 1.4], zorder=-1)\n",
    "\n",
    "    # Color scheme\n",
    "    register_color = '#d32f2f'  # Deep red\n",
    "    hadamard_color = '#03a9f4'  # Light blue\n",
    "    operation_box_color = '#b0bec5'  # Grey\n",
    "    text_color = '#FFFFFF'  # White text for dark background\n",
    "    mod_exp_color = '#6A0DAD'  # Deep purple\n",
    "    qft_color = '#4CAF50'  # Green\n",
    "    line_color = '#b0bec5'  # Grey\n",
    "\n",
    "    # We draw the quantum registers based on the size of the number.\n",
    "    for i in range(n):\n",
    "        ax.plot([0, n * 4 + 3], [0.5, 0.5], color=register_color, lw=2)\n",
    "        ax.text(-0.5, 0.5, f'Q{i}', verticalalignment='center', horizontalalignment='right', fontsize=12, fontweight='bold', color=text_color)\n",
    "\n",
    "    # Draw the Hadamard gates\n",
    "    for i in range(n):\n",
    "        ax.plot([0.5 + i * 3, 0.5 + i * 3], [0.6, 0.4], color=hadamard_color, lw=2, linestyle='--')\n",
    "        ax.text(0.5 + i * 3, 0.7, 'H', fontsize=12, color=text_color, fontweight='bold', ha='center')\n",
    "\n",
    "    # Draw modular exponentiation operation\n",
    "    mod_exp_x = n * 2 - 0.5\n",
    "    ax.plot([mod_exp_x, mod_exp_x], [0.6, 0.4], color=mod_exp_color, lw=2, linestyle='--')\n",
    "    ax.text(mod_exp_x, 1.05, 'Mod Exp', fontsize=12, color=text_color, fontweight='bold', ha='center', va='bottom')  # Adjusted\n",
    "\n",
    "    # Draw Quantum Fourier Transform operation\n",
    "    qft_x = n * 3 - 0.5\n",
    "    ax.plot([qft_x, qft_x], [0.6, 0.4], color=qft_color, lw=2, linestyle='--')\n",
    "    ax.text(qft_x, 1.05, 'QFT', fontsize=12, color=text_color, fontweight='bold', ha='center', va='bottom')\n",
    "\n",
    "    # Add box for general operations - we don't go much in detail as bits cannot be entangled with one another.\n",
    "    rect_x = n * 2 - 0.5\n",
    "    rect_width = 2.5\n",
    "    rect = patches.FancyBboxPatch((rect_x, 0.2), rect_width, 0.3, boxstyle=\"round,pad=0.05\", edgecolor=line_color, facecolor=operation_box_color, alpha=0.8)  # Move down\n",
    "    ax.add_patch(rect)\n",
    "    ax.text(rect_x + rect_width / 2, 0.35, 'Operations', fontsize=12, fontweight='bold', ha='center', color=text_color)  # Move down\n",
    "\n",
    "    # Add title\n",
    "    plt.title('Quantum Circuit Representation', fontsize=16, fontweight='bold', color=text_color, pad=20)\n",
    "\n",
    "    ax.set_xticks([])\n",
    "    ax.set_yticks([])\n",
    "\n",
    "    plt.show()"
   ]
  },
  {
   "cell_type": "code",
   "execution_count": 11,
   "metadata": {},
   "outputs": [
    {
     "name": "stdout",
     "output_type": "stream",
     "text": [
      "***** CLASSIC REPRESENTATION OF QUANTUM FACTORISATION *****\n",
      "The prime factors of 1289192 are: [2, 2, 2, 161149]\n"
     ]
    },
    {
     "data": {
      "image/png": "[encoded data removed]",
      "text/plain": [
       "<Figure size 1200x600 with 1 Axes>"
      ]
     },
     "metadata": {},
     "output_type": "display_data"
    }
   ],
   "source": [
    "# Execution of Shor's Algorithm\n",
    "\n",
    "def main():\n",
    "    print(\"***** CLASSIC REPRESENTATION OF QUANTUM FACTORISATION *****\")\n",
    "    N = int(input(\"Enter a number to factorize: \"))\n",
    "    factors = prime_factors(N)\n",
    "    print(f\"The prime factors of {N} are: {sorted(factors)}\")\n",
    "\n",
    "    # Generate and display the quantum circuit\n",
    "    n = int(np.ceil(np.log2(N)))\n",
    "    plot_quantum_circuit(n)\n",
    "\n",
    "\n",
    "# Execute the main function\n",
    "main()"
   ]
  }
 ],
 "metadata": {
  "kernelspec": {
   "display_name": "Python 3",
   "language": "python",
   "name": "python3"
  },
  "language_info": {
   "codemirror_mode": {
    "name": "ipython",
    "version": 3
   },
   "file_extension": ".py",
   "mimetype": "text/x-python",
   "name": "python",
   "nbconvert_exporter": "python",
   "pygments_lexer": "ipython3",
   "version": "3.12.4"
  }
 },
 "nbformat": 4,
 "nbformat_minor": 2
}
