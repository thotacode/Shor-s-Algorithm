{
  "cells": [
    {
      "cell_type": "code",
      "execution_count": 1,
      "metadata": {
        "id": "L_XyAOh4MMrk"
      },
      "outputs": [],
      "source": [
        "# Shor's algorithm\n",
        "# This is an algorithm created by Peter Shor, to use quantum computing to rapidly factorize large numbers.\n",
        "# The below code demonstrates the underlying principles of Shor's algorithm, to the best ability of classic Python.\n"
      ]
    },
    {
      "cell_type": "code",
      "execution_count": 2,
      "metadata": {
        "id": "lk_AAHtuMMrn"
      },
      "outputs": [],
      "source": [
        "# We import numpy for math, random, and matplotlib for drawing our quantum circuit.\n",
        "import numpy as np\n",
        "import random\n",
        "import matplotlib.pyplot as plt\n",
        "import matplotlib.patches as patches\n",
        "from matplotlib.colors import LinearSegmentedColormap"
      ]
    },
    {
      "cell_type": "code",
      "execution_count": 3,
      "metadata": {
        "id": "spCIpdxzMMrn"
      },
      "outputs": [],
      "source": [
        "# We find the greatest common divisor using the Euclidean algorithm\n",
        "def gcd(a, b):\n",
        "    while b:\n",
        "        a, b = b, a % b\n",
        "    return a\n",
        "\n",
        "# We now check if the number is prime.\n",
        "def is_prime(n):\n",
        "    if n <= 1:\n",
        "        return False\n",
        "    if n <= 3:\n",
        "        return True\n",
        "    if n % 2 == 0 or n % 3 == 0:\n",
        "        return False\n",
        "    i = 5\n",
        "    while i * i <= n:\n",
        "        if n % i == 0 or n % (i + 2) == 0:\n",
        "            return False\n",
        "        i += 6\n",
        "    return True"
      ]
    },
    {
      "cell_type": "code",
      "execution_count": 4,
      "metadata": {
        "id": "0--jLsteMMrn"
      },
      "outputs": [],
      "source": [
        "# Trial division for finding factors of the number\n",
        "def trial_division(n):\n",
        "    factors = []\n",
        "    while n % 2 == 0:\n",
        "        factors.append(2)\n",
        "        n //= 2\n",
        "    while n % 3 == 0:\n",
        "        factors.append(3)\n",
        "        n //= 3\n",
        "    i = 5\n",
        "    while i * i <= n:\n",
        "        while n % i == 0:\n",
        "            factors.append(i)\n",
        "            n //= i\n",
        "        while n % (i + 2) == 0:\n",
        "            factors.append(i + 2)\n",
        "            n //= i + 2\n",
        "        i += 6\n",
        "    if n > 1:\n",
        "        factors.append(n)\n",
        "    return factors"
      ]
    },
    {
      "cell_type": "code",
      "execution_count": 5,
      "metadata": {
        "id": "6Ru5MBB8MMro"
      },
      "outputs": [],
      "source": [
        "# Quantum Fourier Transform matrix. This matrix is the most important part of the algorithm and utilises complex math.\n",
        "def qft_matrix(n):\n",
        "    size = 2 ** n\n",
        "    qft = np.zeros((size, size), dtype=complex)\n",
        "    for j in range(size):\n",
        "        for k in range(size):\n",
        "            qft[j, k] = np.exp(2j * np.pi * j * k / size) / np.sqrt(size)\n",
        "    return qft\n",
        "\n",
        "\n",
        "# Modular exponentiation matrix - a way in which any number can be expressed in a range of its period of modular exponents.\n",
        "def mod_exp_matrix(a, N, n):\n",
        "    size = 2 ** n\n",
        "    mod_exp = np.zeros((size, size), dtype=complex)\n",
        "    for x in range(size):\n",
        "        y = pow(a, x, N)\n",
        "        mod_exp[x, y] = 1\n",
        "    return mod_exp"
      ]
    },
    {
      "cell_type": "code",
      "execution_count": 6,
      "metadata": {
        "id": "bdzErKF8MMro"
      },
      "outputs": [],
      "source": [
        "# Shor's algorithm implementation\n",
        "# Note this algorithm is not designed to be on classical hardware.\n",
        "def shors_algorithm(a, N):\n",
        "    n = int(np.ceil(np.log2(N)))\n",
        "    qft = qft_matrix(n)\n",
        "    mod_exp = mod_exp_matrix(a, N, n)\n",
        "\n",
        "    state = np.zeros((2 ** n, 1), dtype=complex)\n",
        "    state[0] = 1\n",
        "\n",
        "    H = np.array([[1, 1], [1, -1]]) / np.sqrt(2)\n",
        "    Hn = H\n",
        "    for _ in range(n - 1):\n",
        "        Hn = np.kron(Hn, H)\n",
        "    state = Hn @ state\n",
        "\n",
        "    state = mod_exp @ state\n",
        "\n",
        "    state = qft @ state\n",
        "\n",
        "    probabilities = np.abs(state) ** 2\n",
        "    result = np.argmax(probabilities)\n",
        "\n",
        "    return result\n",
        "\n"
      ]
    },
    {
      "cell_type": "code",
      "execution_count": 7,
      "metadata": {
        "id": "yx0Ac_CHMMro"
      },
      "outputs": [],
      "source": [
        "# Finding a factor of N using Shor's algorithm - albeit this is not a qubit-system, we aim to represent the benefit\n",
        "# of quantum hardware classically\n",
        "def quantum_factor(N):\n",
        "    a = random.randint(2, N - 1)\n",
        "    while gcd(a, N) != 1:\n",
        "        a = random.randint(2, N - 1)\n",
        "    result = shors_algorithm(a, N)\n",
        "    factor = gcd(result, N)\n",
        "    if factor == 1 or factor == N:\n",
        "        return quantum_factor(N)\n",
        "    return factor\n",
        "\n",
        "\n",
        "# N into its prime factors\n",
        "def prime_factors(N):\n",
        "    factors = trial_division(N)\n",
        "    prime_factors_list = []\n",
        "    for factor in factors:\n",
        "        while not is_prime(factor):\n",
        "            smaller_factor = quantum_factor(factor)\n",
        "            prime_factors_list.append(smaller_factor)\n",
        "            factor //= smaller_factor\n",
        "        prime_factors_list.append(factor)\n",
        "    return prime_factors_list"
      ]
    },
    {
      "cell_type": "code",
      "execution_count": 19,
      "metadata": {
        "id": "iiAaDw9GMMrp",
        "colab": {
          "base_uri": "https://localhost:8080/",
          "height": 396
        },
        "outputId": "3ad210ad-a255-44d4-deb5-55d49fe699f6"
      },
      "outputs": [
        {
          "output_type": "stream",
          "name": "stdout",
          "text": [
            "***** CLASSIC REPRESENTATION OF QUANTUM FACTORISATION *****\n",
            "Enter a number to factorize: 15\n",
            "The factors of 15 are: [3, 5]\n"
          ]
        },
        {
          "output_type": "display_data",
          "data": {
            "text/plain": [
              "<Figure size 1200x400 with 1 Axes>"
            ],
            "image/png": "[encoded data removed]"
          },
          "metadata": {}
        }
      ],
      "source": [
        "def draw_shors_circuit(number_to_factorize):\n",
        "    num_qubits = int(np.ceil(np.log2(number_to_factorize)))  # Calculate number of qubits\n",
        "    fig, ax = plt.subplots(figsize=(12, num_qubits))\n",
        "\n",
        "    def draw_qubit_line(y, label):\n",
        "        ax.plot([-0.5, 9.5], [y, y], color='black')\n",
        "        ax.text(-1, y, label, fontsize=12, va='center')\n",
        "\n",
        "    def draw_hadamard(x, y):\n",
        "        radius = 0.4\n",
        "        circle = patches.Circle((x, y), radius, facecolor='white', edgecolor='black', linewidth=1)\n",
        "        ax.add_patch(circle)\n",
        "        ax.text(x, y, 'H', ha='center', va='center', fontsize=10)\n",
        "\n",
        "    def draw_operation_box(x, y_min, y_max, label):\n",
        "        width = 1.5\n",
        "        height = y_max - y_min\n",
        "        rect = patches.Rectangle((x - width / 2, y_min), width, height, facecolor='lightgray', edgecolor='black', linewidth=1)\n",
        "        ax.add_patch(rect)\n",
        "        ax.text(x, y_min + height / 2, label, ha='center', va='center', fontsize=8, wrap=True)\n",
        "\n",
        "    # Draw qubit lines\n",
        "    for i in range(num_qubits):\n",
        "        draw_qubit_line(i, f\"q{i}\")\n",
        "\n",
        "    # Draw initial Hadamard gates\n",
        "    for i in range(num_qubits):\n",
        "        draw_hadamard(0, i)\n",
        "\n",
        "    # Draw modular exponentiation operation\n",
        "    draw_operation_box(3, 0, num_qubits - 1, \"Mod Exp\")\n",
        "\n",
        "    # Draw Quantum Fourier Transform operation\n",
        "    draw_operation_box(6, 0, num_qubits - 1, \"QFT\")\n",
        "\n",
        "    # Draw measurement symbol (simplified)\n",
        "    for i in range(num_qubits):\n",
        "        ax.plot([9, 9], [i - 0.2, i + 0.2], color='black', linewidth=1)\n",
        "\n",
        "    ax.set_aspect('equal')\n",
        "    ax.axis('off')\n",
        "    plt.show()\n",
        "\n",
        "print(\"***** CLASSIC REPRESENTATION OF QUANTUM FACTORISATION *****\")\n",
        "number = int(input(\"Enter a number to factorize: \"))\n",
        "factors = prime_factors(number)\n",
        "print(f\"The factors of {number} are: {factors}\")\n",
        "draw_shors_circuit(number)"
      ]
    },
    {
      "cell_type": "code",
      "source": [],
      "metadata": {
        "id": "nXVUEf3JMOyT"
      },
      "execution_count": null,
      "outputs": []
    }
  ],
  "metadata": {
    "kernelspec": {
      "display_name": "Python 3",
      "language": "python",
      "name": "python3"
    },
    "language_info": {
      "codemirror_mode": {
        "name": "ipython",
        "version": 3
      },
      "file_extension": ".py",
      "mimetype": "text/x-python",
      "name": "python",
      "nbconvert_exporter": "python",
      "pygments_lexer": "ipython3",
      "version": "3.12.4"
    },
    "colab": {
      "provenance": []
    }
  },
  "nbformat": 4,
  "nbformat_minor": 0
}